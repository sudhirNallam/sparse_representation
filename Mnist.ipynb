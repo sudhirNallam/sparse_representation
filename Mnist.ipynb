{
 "cells": [
  {
   "cell_type": "code",
   "execution_count": 2,
   "metadata": {
    "collapsed": true
   },
   "outputs": [],
   "source": [
    "import numpy as np\n",
    "import scipy as sp\n",
    "from mnist_tools import *\n",
    "from plot_tools import *\n",
    "import matplotlib.pyplot as plt\n",
    "from sklearn.preprocessing import normalize\n",
    "from cvxopt import matrix\n",
    "from cvxpy import *\n",
    "from skimage.measure import block_reduce\n",
    "from numpy import linalg as LA"
   ]
  },
  {
   "cell_type": "code",
   "execution_count": 3,
   "metadata": {
    "collapsed": false
   },
   "outputs": [],
   "source": [
    "datafile = \"mnist_all.mat\" #Change if you put the file in a different path\n",
    "train = load_train_data(datafile)\n",
    "test, testLabels = load_test_data(datafile)"
   ]
  },
  {
   "cell_type": "code",
   "execution_count": 10,
   "metadata": {
    "collapsed": false
   },
   "outputs": [
    {
     "data": {
      "text/plain": [
       "(7, 6, 100)"
      ]
     },
     "execution_count": 10,
     "metadata": {},
     "output_type": "execute_result"
    }
   ],
   "source": [
    "d=0\n",
    "X = train[d]\n",
    "X = np.transpose(X).reshape(28, 28, 100)\n",
    "X = block_reduce(X, block_size=(4, 5, 1), func=np.max)\n",
    "X.shape"
   ]
  },
  {
   "cell_type": "code",
   "execution_count": 31,
   "metadata": {
    "collapsed": false,
    "scrolled": false
   },
   "outputs": [
    {
     "name": "stderr",
     "output_type": "stream",
     "text": [
      "/Users/Bangz/anaconda3/lib/python3.6/site-packages/sklearn/utils/validation.py:429: DataConversionWarning: Data with input dtype uint8 was converted to float64 by the normalize function.\n",
      "  warnings.warn(msg, _DataConversionWarning)\n"
     ]
    },
    {
     "name": "stdout",
     "output_type": "stream",
     "text": [
      "\n",
      "ECOS 2.0.4 - (C) embotech GmbH, Zurich Switzerland, 2012-15. Web: www.embotech.com/ECOS\n",
      "\n",
      "It     pcost       dcost      gap   pres   dres    k/t    mu     step   sigma     IR    |   BT\n",
      " 0  +0.000e+00  -0.000e+00  +4e+02  9e-01  1e-02  1e+00  2e+00    ---    ---    2  1  - |  -  - \n",
      " 1  +1.347e+01  +1.356e+01  +1e+02  5e-01  1e-03  3e-01  6e-01  0.8047  8e-02   1  1  1 |  0  0\n",
      " 2  +2.191e+01  +2.195e+01  +3e+01  2e-01  3e-04  1e-01  2e-01  0.7710  8e-02   1  1  1 |  0  0\n",
      " 3  +2.657e+01  +2.658e+01  +9e+00  4e-02  7e-05  3e-02  4e-02  0.7880  5e-02   1  1  1 |  0  0\n",
      " 4  +2.765e+01  +2.765e+01  +3e+00  1e-02  2e-05  1e-02  1e-02  0.7258  8e-02   1  1  1 |  0  0\n",
      " 5  +2.796e+01  +2.797e+01  +9e-01  5e-03  7e-06  4e-03  5e-03  0.7096  6e-02   1  1  1 |  0  0\n",
      " 6  +2.806e+01  +2.806e+01  +2e-01  1e-03  2e-06  9e-04  1e-03  0.8956  1e-01   1  1  1 |  0  0\n",
      " 7  +2.809e+01  +2.809e+01  +3e-02  2e-04  3e-07  1e-04  2e-04  0.8419  1e-02   1  1  1 |  0  0\n",
      " 8  +2.809e+01  +2.809e+01  +6e-03  3e-05  5e-08  3e-05  3e-05  0.8430  2e-02   1  1  1 |  0  0\n",
      " 9  +2.810e+01  +2.810e+01  +2e-03  1e-05  2e-08  1e-05  1e-05  0.7824  2e-01   1  1  1 |  0  0\n",
      "10  +2.810e+01  +2.810e+01  +1e-03  5e-06  8e-09  5e-06  5e-06  0.7759  3e-01   1  1  1 |  0  0\n",
      "11  +2.810e+01  +2.810e+01  +4e-05  2e-07  3e-10  2e-07  2e-07  0.9658  2e-04   1  1  1 |  0  0\n",
      "12  +2.810e+01  +2.810e+01  +4e-07  2e-09  5e-12  2e-09  2e-09  0.9890  1e-04   1  1  1 |  0  0\n",
      "13  +2.810e+01  +2.810e+01  +4e-09  2e-11  7e-14  2e-11  2e-11  0.9890  1e-04   1  0  0 |  0  0\n",
      "\n",
      "OPTIMAL (within feastol=2.1e-11, reltol=1.6e-10, abstol=4.4e-09).\n",
      "Runtime: 0.009513 seconds.\n",
      "\n",
      "\n",
      "ECOS 2.0.4 - (C) embotech GmbH, Zurich Switzerland, 2012-15. Web: www.embotech.com/ECOS\n",
      "\n",
      "It     pcost       dcost      gap   pres   dres    k/t    mu     step   sigma     IR    |   BT\n",
      " 0  +0.000e+00  -0.000e+00  +1e+02  9e-01  1e-02  1e+00  7e-01    ---    ---    1  1  - |  -  - \n",
      " 1  +6.925e+03  +6.976e+03  +3e+00  6e-01  5e-04  5e+01  1e-02  0.9890  8e-03   1  1  1 |  0  0\n",
      " 2  +6.319e+05  +6.367e+05  +3e-02  6e-01  5e-04  5e+03  1e-04  0.9890  1e-04   2  1  1 |  0  0\n",
      " 3  +5.679e+07  +5.721e+07  +3e-04  6e-01  5e-04  4e+05  2e-06  0.9890  1e-04   2  1  1 |  0  0\n",
      " 4  +5.121e+09  +5.159e+09  +4e-06  6e-01  5e-04  4e+07  2e-08  0.9890  1e-04   2  1  1 |  0  0\n",
      "\n",
      "PRIMAL INFEASIBLE (within feastol=6.9e-10).\n",
      "Runtime: 0.007448 seconds.\n",
      "\n",
      "\n",
      "ECOS 2.0.4 - (C) embotech GmbH, Zurich Switzerland, 2012-15. Web: www.embotech.com/ECOS\n",
      "\n",
      "It     pcost       dcost      gap   pres   dres    k/t    mu     step   sigma     IR    |   BT\n",
      " 0  +0.000e+00  -0.000e+00  +2e+02  9e-01  1e-02  1e+00  1e+00    ---    ---    1  1  - |  -  - \n",
      " 1  +2.944e+00  +2.944e+00  +3e+01  5e-01  1e-03  2e-01  2e-01  0.8604  3e-02   1  1  1 |  0  0\n",
      " 2  +7.441e+00  +7.441e+00  +9e+00  2e-01  3e-04  5e-02  5e-02  0.7441  4e-02   1  1  1 |  0  0\n",
      " 3  +8.853e+00  +8.852e+00  +2e+00  3e-02  5e-05  1e-02  1e-02  0.8275  4e-02   1  1  1 |  0  0\n",
      " 4  +9.156e+00  +9.156e+00  +7e-01  1e-02  2e-05  3e-03  3e-03  0.7081  8e-02   1  1  1 |  0  0\n",
      " 5  +9.229e+00  +9.229e+00  +2e-01  3e-03  5e-06  1e-03  1e-03  0.8269  2e-01   1  1  1 |  0  0\n",
      " 6  +9.255e+00  +9.255e+00  +5e-02  9e-04  1e-06  3e-04  3e-04  0.8484  1e-01   1  1  1 |  0  0\n",
      " 7  +9.262e+00  +9.262e+00  +1e-02  2e-04  3e-07  6e-05  6e-05  0.8066  4e-02   1  1  1 |  0  0\n",
      " 8  +9.263e+00  +9.263e+00  +3e-03  5e-05  7e-08  2e-05  2e-05  0.7655  5e-02   1  1  1 |  0  0\n",
      " 9  +9.264e+00  +9.264e+00  +4e-04  7e-06  1e-08  2e-06  2e-06  0.9589  9e-02   1  1  1 |  0  0\n",
      "10  +9.264e+00  +9.264e+00  +5e-06  7e-08  1e-10  2e-08  2e-08  0.9890  1e-04   1  1  1 |  0  0\n",
      "11  +9.264e+00  +9.264e+00  +5e-08  8e-10  1e-12  2e-10  3e-10  0.9890  1e-04   1  1  1 |  0  0\n",
      "\n",
      "OPTIMAL (within feastol=8.3e-10, reltol=5.6e-09, abstol=5.2e-08).\n",
      "Runtime: 0.016356 seconds.\n",
      "\n",
      "\n",
      "ECOS 2.0.4 - (C) embotech GmbH, Zurich Switzerland, 2012-15. Web: www.embotech.com/ECOS\n",
      "\n",
      "It     pcost       dcost      gap   pres   dres    k/t    mu     step   sigma     IR    |   BT\n",
      " 0  +0.000e+00  -0.000e+00  +2e+02  9e-01  1e-02  1e+00  1e+00    ---    ---    1  1  - |  -  - \n",
      " 1  +4.194e+00  +4.195e+00  +3e+01  5e-01  1e-03  2e-01  2e-01  0.8645  4e-02   1  1  1 |  0  0\n",
      " 2  +1.001e+01  +1.001e+01  +9e+00  1e-01  2e-04  5e-02  5e-02  0.7526  4e-02   1  1  1 |  0  0\n",
      " 3  +1.108e+01  +1.108e+01  +3e+00  5e-02  7e-05  2e-02  2e-02  0.7064  9e-02   1  1  1 |  0  0\n",
      " 4  +1.147e+01  +1.147e+01  +1e+00  2e-02  3e-05  6e-03  6e-03  0.6663  8e-02   1  1  1 |  0  0\n",
      " 5  +1.162e+01  +1.162e+01  +4e-01  5e-03  8e-06  2e-03  2e-03  0.7244  4e-02   1  1  1 |  0  0\n",
      " 6  +1.166e+01  +1.166e+01  +1e-01  2e-03  3e-06  7e-04  7e-04  0.6792  6e-02   1  1  1 |  0  0\n",
      " 7  +1.167e+01  +1.167e+01  +6e-02  8e-04  1e-06  3e-04  3e-04  0.7344  3e-01   1  1  1 |  0  0\n",
      " 8  +1.168e+01  +1.168e+01  +2e-03  3e-05  4e-08  1e-05  1e-05  0.9830  1e-02   1  1  1 |  0  0\n",
      " 9  +1.168e+01  +1.168e+01  +2e-05  3e-07  4e-10  1e-07  1e-07  0.9890  1e-04   1  1  1 |  0  0\n",
      "10  +1.168e+01  +1.168e+01  +2e-07  3e-09  5e-12  1e-09  1e-09  0.9890  1e-04   1  1  1 |  0  0\n",
      "11  +1.168e+01  +1.168e+01  +3e-09  4e-11  5e-14  1e-11  1e-11  0.9890  1e-04   1  0  0 |  0  0\n",
      "\n",
      "OPTIMAL (within feastol=3.6e-11, reltol=2.4e-10, abstol=2.8e-09).\n",
      "Runtime: 0.012527 seconds.\n",
      "\n",
      "\n",
      "ECOS 2.0.4 - (C) embotech GmbH, Zurich Switzerland, 2012-15. Web: www.embotech.com/ECOS\n",
      "\n",
      "It     pcost       dcost      gap   pres   dres    k/t    mu     step   sigma     IR    |   BT\n",
      " 0  +0.000e+00  -0.000e+00  +1e+02  9e-01  1e-02  1e+00  6e-01    ---    ---    1  1  - |  -  - \n",
      " 1  +3.782e-01  +3.780e-01  +1e+01  5e-01  1e-03  1e-01  7e-02  0.8893  2e-03   1  0  1 |  0  0\n",
      " 2  +1.720e+00  +1.718e+00  +5e+00  2e-01  4e-04  4e-02  3e-02  0.6348  8e-02   1  1  1 |  0  0\n",
      " 3  +2.217e+00  +2.216e+00  +2e+00  7e-02  9e-05  1e-02  8e-03  0.7425  5e-02   1  1  1 |  0  0\n",
      " 4  +2.377e+00  +2.375e+00  +6e-01  2e-02  2e-05  4e-03  3e-03  0.7617  2e-01   1  1  1 |  0  0\n",
      " 5  +2.434e+00  +2.434e+00  +2e-01  7e-03  8e-06  1e-03  9e-04  0.7712  1e-01   1  1  1 |  0  0\n",
      " 6  +2.458e+00  +2.458e+00  +5e-02  2e-03  2e-06  3e-04  3e-04  0.7533  6e-02   1  1  1 |  0  0\n",
      " 7  +2.464e+00  +2.464e+00  +2e-02  6e-04  6e-07  8e-05  8e-05  0.8447  1e-01   1  1  1 |  0  0\n",
      " 8  +2.467e+00  +2.467e+00  +3e-03  1e-04  1e-07  1e-05  1e-05  0.8675  5e-02   1  1  1 |  0  0\n",
      " 9  +2.467e+00  +2.467e+00  +1e-04  6e-06  6e-09  7e-07  7e-07  0.9890  5e-02   1  1  1 |  0  0\n",
      "10  +2.467e+00  +2.467e+00  +5e-06  2e-07  2e-10  2e-08  2e-08  0.9693  3e-03   1  1  1 |  0  0\n",
      "11  +2.467e+00  +2.467e+00  +6e-08  2e-09  2e-12  3e-10  3e-10  0.9890  1e-04   1  1  1 |  0  0\n",
      "12  +2.467e+00  +2.467e+00  +6e-10  2e-11  3e-14  3e-12  3e-12  0.9890  1e-04   1  0  0 |  0  0\n",
      "\n",
      "OPTIMAL (within feastol=2.5e-11, reltol=2.5e-10, abstol=6.1e-10).\n",
      "Runtime: 0.012142 seconds.\n",
      "\n",
      "\n",
      "ECOS 2.0.4 - (C) embotech GmbH, Zurich Switzerland, 2012-15. Web: www.embotech.com/ECOS\n",
      "\n",
      "It     pcost       dcost      gap   pres   dres    k/t    mu     step   sigma     IR    |   BT\n",
      " 0  +0.000e+00  -0.000e+00  +1e+02  9e-01  1e-02  1e+00  7e-01    ---    ---    1  1  - |  -  - \n",
      " 1  +1.577e+00  +1.576e+00  +2e+01  5e-01  2e-03  2e-01  1e-01  0.8498  8e-03   1  1  1 |  0  0\n",
      " 2  +4.880e+00  +4.877e+00  +7e+00  2e-01  4e-04  5e-02  4e-02  0.7044  5e-02   1  1  1 |  0  0\n",
      " 3  +5.736e+00  +5.735e+00  +2e+00  5e-02  1e-04  1e-02  1e-02  0.7646  6e-02   1  1  1 |  0  0\n",
      " 4  +6.024e+00  +6.024e+00  +5e-01  1e-02  3e-05  3e-03  2e-03  0.7865  5e-02   1  1  1 |  0  0\n",
      " 5  +6.095e+00  +6.094e+00  +2e-01  4e-03  1e-05  1e-03  1e-03  0.7279  2e-01   1  1  1 |  0  0\n",
      " 6  +6.115e+00  +6.115e+00  +6e-02  1e-03  3e-06  3e-04  3e-04  0.8706  2e-01   1  1  1 |  0  0\n",
      " 7  +6.124e+00  +6.124e+00  +1e-02  2e-04  5e-07  5e-05  5e-05  0.8427  2e-02   1  1  1 |  0  0\n",
      " 8  +6.126e+00  +6.126e+00  +8e-04  2e-05  4e-08  4e-06  4e-06  0.9772  6e-02   1  1  1 |  0  0\n",
      " 9  +6.126e+00  +6.126e+00  +9e-06  2e-07  5e-10  4e-08  4e-08  0.9890  1e-04   1  1  1 |  0  0\n",
      "10  +6.126e+00  +6.126e+00  +1e-07  2e-09  5e-12  5e-10  5e-10  0.9890  1e-04   1  1  1 |  0  0\n",
      "11  +6.126e+00  +6.126e+00  +1e-09  2e-11  6e-14  5e-12  5e-12  0.9890  1e-04   1  0  0 |  0  0\n",
      "\n",
      "OPTIMAL (within feastol=2.5e-11, reltol=1.8e-10, abstol=1.1e-09).\n",
      "Runtime: 0.004120 seconds.\n",
      "\n",
      "\n",
      "ECOS 2.0.4 - (C) embotech GmbH, Zurich Switzerland, 2012-15. Web: www.embotech.com/ECOS\n",
      "\n",
      "It     pcost       dcost      gap   pres   dres    k/t    mu     step   sigma     IR    |   BT\n",
      " 0  +0.000e+00  -0.000e+00  +1e+02  9e-01  1e-02  1e+00  7e-01    ---    ---    1  1  - |  -  - \n",
      " 1  +6.997e+03  +7.050e+03  +2e+00  6e-01  4e-04  5e+01  1e-02  0.9890  7e-03   1  1  1 |  0  0\n",
      " 2  +6.349e+05  +6.397e+05  +3e-02  6e-01  4e-04  5e+03  1e-04  0.9890  1e-04   2  1  1 |  0  0\n",
      " 3  +5.700e+07  +5.743e+07  +3e-04  6e-01  4e-04  4e+05  2e-06  0.9890  1e-04   2  1  1 |  0  0\n",
      " 4  +5.141e+09  +5.179e+09  +3e-06  6e-01  4e-04  4e+07  2e-08  0.9890  1e-04   3  1  1 |  0  0\n",
      "\n",
      "PRIMAL INFEASIBLE (within feastol=5.1e-10).\n",
      "Runtime: 0.003690 seconds.\n",
      "\n",
      "\n",
      "ECOS 2.0.4 - (C) embotech GmbH, Zurich Switzerland, 2012-15. Web: www.embotech.com/ECOS\n",
      "\n",
      "It     pcost       dcost      gap   pres   dres    k/t    mu     step   sigma     IR    |   BT\n",
      " 0  +0.000e+00  -0.000e+00  +2e+02  9e-01  1e-02  1e+00  8e-01    ---    ---    1  1  - |  -  - \n",
      " 1  +9.000e-01  +8.976e-01  +3e+01  6e-01  2e-03  2e-01  1e-01  0.8462  2e-02   1  1  1 |  0  0\n",
      " 2  +3.042e+00  +3.040e+00  +5e+00  2e-01  2e-04  3e-02  3e-02  0.8164  4e-02   1  1  1 |  0  0\n",
      " 3  +3.756e+00  +3.755e+00  +1e+00  5e-02  3e-05  9e-03  7e-03  0.7839  8e-02   2  1  1 |  0  0\n",
      " 4  +3.924e+00  +3.923e+00  +7e-01  2e-02  1e-05  4e-03  3e-03  0.6360  2e-01   1  1  1 |  0  0\n",
      " 5  +4.010e+00  +4.010e+00  +3e-01  7e-03  3e-06  1e-03  1e-03  0.7564  2e-01   1  1  1 |  0  0\n",
      " 6  +4.042e+00  +4.042e+00  +8e-02  2e-03  1e-06  4e-04  4e-04  0.7361  7e-02   1  1  1 |  0  0\n",
      " 7  +4.050e+00  +4.050e+00  +2e-02  7e-04  3e-07  1e-04  1e-04  0.7481  8e-02   1  1  1 |  0  0\n",
      " 8  +4.052e+00  +4.052e+00  +1e-02  3e-04  1e-07  5e-05  5e-05  0.6274  5e-02   1  1  1 |  0  0\n",
      " 9  +4.054e+00  +4.054e+00  +3e-03  7e-05  3e-08  1e-05  1e-05  0.9157  2e-01   1  1  1 |  0  0\n",
      "10  +4.054e+00  +4.054e+00  +4e-04  1e-05  6e-09  2e-06  2e-06  0.8688  5e-02   1  1  1 |  0  0\n",
      "11  +4.054e+00  +4.054e+00  +3e-05  7e-07  4e-10  1e-07  1e-07  0.9425  2e-03   1  1  1 |  0  0\n",
      "12  +4.054e+00  +4.054e+00  +4e-07  1e-08  6e-12  2e-09  2e-09  0.9862  3e-04   2  1  1 |  0  0\n",
      "13  +4.054e+00  +4.054e+00  +4e-09  1e-10  9e-14  2e-11  2e-11  0.9890  1e-04   2  1  1 |  0  0\n",
      "\n",
      "OPTIMAL (within feastol=1.1e-10, reltol=9.6e-10, abstol=3.9e-09).\n",
      "Runtime: 0.007739 seconds.\n",
      "\n",
      "\n",
      "ECOS 2.0.4 - (C) embotech GmbH, Zurich Switzerland, 2012-15. Web: www.embotech.com/ECOS\n",
      "\n",
      "It     pcost       dcost      gap   pres   dres    k/t    mu     step   sigma     IR    |   BT\n",
      " 0  +0.000e+00  -0.000e+00  +2e+02  9e-01  1e-02  1e+00  9e-01    ---    ---    1  1  - |  -  - \n",
      " 1  +3.813e+00  +3.811e+00  +3e+01  5e-01  1e-03  2e-01  1e-01  0.8628  3e-02   1  1  1 |  0  0\n",
      " 2  +8.718e+00  +8.717e+00  +1e+01  2e-01  4e-04  6e-02  5e-02  0.6704  6e-02   1  1  1 |  0  0\n",
      " 3  +1.007e+01  +1.007e+01  +3e+00  4e-02  9e-05  1e-02  1e-02  0.7890  6e-02   1  1  1 |  0  0\n",
      " 4  +1.041e+01  +1.041e+01  +9e-01  1e-02  3e-05  5e-03  5e-03  0.6968  5e-02   1  1  1 |  0  0\n",
      " 5  +1.051e+01  +1.051e+01  +3e-01  4e-03  1e-05  2e-03  2e-03  0.7276  8e-02   1  1  1 |  0  0\n",
      " 6  +1.055e+01  +1.055e+01  +7e-02  1e-03  2e-06  4e-04  3e-04  0.8509  1e-01   1  1  1 |  0  0\n",
      " 7  +1.056e+01  +1.056e+01  +9e-03  1e-04  3e-07  4e-05  4e-05  0.9751  1e-01   1  1  1 |  0  0\n",
      " 8  +1.056e+01  +1.056e+01  +7e-04  1e-05  2e-08  3e-06  3e-06  0.9338  1e-02   1  1  1 |  0  0\n",
      " 9  +1.056e+01  +1.056e+01  +2e-05  2e-07  5e-10  7e-08  8e-08  0.9816  4e-03   1  1  1 |  0  0\n",
      "10  +1.056e+01  +1.056e+01  +2e-07  2e-09  5e-12  8e-10  9e-10  0.9890  1e-04   1  1  1 |  0  0\n",
      "11  +1.056e+01  +1.056e+01  +2e-09  3e-11  6e-14  9e-12  9e-12  0.9890  1e-04   1  1  1 |  0  0\n",
      "\n",
      "OPTIMAL (within feastol=2.7e-11, reltol=1.8e-10, abstol=1.9e-09).\n",
      "Runtime: 0.006895 seconds.\n",
      "\n",
      "\n",
      "ECOS 2.0.4 - (C) embotech GmbH, Zurich Switzerland, 2012-15. Web: www.embotech.com/ECOS\n",
      "\n",
      "It     pcost       dcost      gap   pres   dres    k/t    mu     step   sigma     IR    |   BT\n",
      " 0  +0.000e+00  -0.000e+00  +1e+02  9e-01  1e-02  1e+00  7e-01    ---    ---    1  1  - |  -  - \n",
      " 1  +5.712e-01  +5.693e-01  +2e+01  6e-01  2e-03  2e-01  1e-01  0.8432  1e-02   1  1  1 |  0  0\n",
      " 2  +1.796e+00  +1.794e+00  +6e+00  2e-01  4e-04  4e-02  3e-02  0.7646  4e-02   1  1  1 |  0  0\n",
      " 3  +2.461e+00  +2.460e+00  +2e+00  9e-02  2e-04  2e-02  1e-02  0.6177  3e-02   1  1  1 |  0  0\n",
      " 4  +2.701e+00  +2.700e+00  +1e+00  3e-02  6e-05  6e-03  5e-03  0.7533  2e-01   1  1  1 |  0  0\n",
      " 5  +2.809e+00  +2.809e+00  +3e-01  9e-03  2e-05  2e-03  1e-03  0.8045  8e-02   1  1  1 |  0  0\n",
      " 6  +2.824e+00  +2.824e+00  +1e-01  4e-03  7e-06  6e-04  6e-04  0.6951  2e-01   1  1  1 |  0  0\n",
      " 7  +2.834e+00  +2.834e+00  +6e-02  2e-03  3e-06  3e-04  3e-04  0.6444  2e-01   1  1  1 |  0  0\n",
      " 8  +2.840e+00  +2.840e+00  +2e-02  5e-04  9e-07  8e-05  8e-05  0.8413  1e-01   1  1  1 |  0  0\n",
      " 9  +2.842e+00  +2.842e+00  +3e-03  1e-04  2e-07  2e-05  2e-05  0.8095  3e-02   1  1  1 |  0  0\n",
      "10  +2.843e+00  +2.843e+00  +6e-04  2e-05  3e-08  3e-06  3e-06  0.8437  3e-02   1  1  1 |  0  0\n",
      "11  +2.843e+00  +2.843e+00  +2e-04  6e-06  1e-08  1e-06  1e-06  0.7635  1e-01   1  1  1 |  0  0\n",
      "12  +2.843e+00  +2.843e+00  +5e-05  1e-06  2e-09  2e-07  2e-07  0.7940  4e-02   1  1  1 |  0  0\n",
      "13  +2.843e+00  +2.843e+00  +5e-06  2e-07  3e-10  2e-08  3e-08  0.9890  1e-01   1  1  1 |  0  0\n",
      "14  +2.843e+00  +2.843e+00  +6e-08  2e-09  3e-12  3e-10  3e-10  0.9878  1e-04   2  1  1 |  0  0\n",
      "15  +2.843e+00  +2.843e+00  +7e-10  2e-11  4e-14  3e-12  4e-12  0.9890  1e-04   1  1  1 |  0  0\n",
      "\n",
      "OPTIMAL (within feastol=2.2e-11, reltol=2.5e-10, abstol=7.0e-10).\n",
      "Runtime: 0.014531 seconds.\n",
      "\n"
     ]
    }
   ],
   "source": [
    "n=len(train)\n",
    "W =[]\n",
    "for d in range(n):\n",
    "    X = train[d]\n",
    "    X = np.transpose(X).reshape(28, 28, 100)\n",
    "    X = block_reduce(X, block_size=(4, 4, 1), func=np.max)\n",
    "    #print(X.shape)\n",
    "    X = normalize(X.reshape(49,100), axis=0, norm='l2')\n",
    "    y = test[0]\n",
    "    y = y.reshape(28,28,1)\n",
    "    y = block_reduce(y, block_size=(4, 4, 1), func=np.max)\n",
    "    y = normalize(y.reshape(49,1), axis=0, norm='l2')\n",
    "    w = Variable(100,1)\n",
    "    obj = Minimize(norm(w,1))\n",
    "    const = [X * w == y]\n",
    "    prob = Problem(obj,const)\n",
    "    result = prob.solve(verbose=True)\n",
    "    W.append(np.array(w.value))"
   ]
  },
  {
   "cell_type": "code",
   "execution_count": 33,
   "metadata": {
    "collapsed": false
   },
   "outputs": [
    {
     "name": "stdout",
     "output_type": "stream",
     "text": [
      "d :  0 res :  6.27536450868e-14\n",
      "d :  2 res :  3.63549129399e-12\n",
      "d :  3 res :  3.64817860983e-14\n",
      "d :  4 res :  6.11548046565e-14\n",
      "d :  5 res :  2.1827307899e-14\n",
      "d :  7 res :  1.58663278132e-11\n",
      "d :  8 res :  3.46307419792e-13\n",
      "d :  9 res :  3.82331918843e-12\n",
      "Prediction : 5 weights [[ -4.70329910e-12]\n",
      " [  3.74730550e-12]\n",
      " [ -4.03825294e-11]\n",
      " [ -1.37189272e-11]\n",
      " [ -3.82919767e-01]\n",
      " [  2.01452544e-01]\n",
      " [ -1.65177108e-11]\n",
      " [  5.58240119e-15]\n",
      " [ -2.17395115e-12]\n",
      " [  8.87725128e-02]\n",
      " [  2.02482895e-10]\n",
      " [ -5.24789991e-13]\n",
      " [ -1.08022387e-12]\n",
      " [ -1.02967233e-11]\n",
      " [ -3.60847669e-11]\n",
      " [ -4.58268717e-12]\n",
      " [  8.07165048e-03]\n",
      " [  3.00163132e-11]\n",
      " [  1.63320874e-02]\n",
      " [ -4.20199940e-12]\n",
      " [ -2.66938758e-01]\n",
      " [  2.92962811e-01]\n",
      " [  4.22490815e-12]\n",
      " [ -5.00169310e-01]\n",
      " [ -7.36381519e-12]\n",
      " [ -8.33559615e-12]\n",
      " [  9.49036118e-12]\n",
      " [ -1.76993102e-02]\n",
      " [ -6.10126250e-02]\n",
      " [  7.29492568e-13]\n",
      " [  2.97575268e-01]\n",
      " [  1.87910591e-12]\n",
      " [ -1.06909591e-11]\n",
      " [ -7.71139112e-02]\n",
      " [  2.58772478e-12]\n",
      " [ -2.02273103e-11]\n",
      " [  6.85060294e-01]\n",
      " [ -1.18963983e-12]\n",
      " [ -8.58591992e-15]\n",
      " [  8.68971374e-12]\n",
      " [  3.90218673e-13]\n",
      " [ -9.07590890e-02]\n",
      " [ -8.81517825e-12]\n",
      " [  1.61677203e-12]\n",
      " [ -8.05234508e-12]\n",
      " [ -1.80567260e-01]\n",
      " [ -1.33420007e-01]\n",
      " [  6.57297250e-12]\n",
      " [  1.41221236e-11]\n",
      " [  1.03833942e-11]\n",
      " [  1.63474441e-01]\n",
      " [  8.53689585e-12]\n",
      " [  9.09231480e-13]\n",
      " [  1.59290857e-01]\n",
      " [  2.48363482e-12]\n",
      " [ -4.58020970e-13]\n",
      " [ -4.79723707e-12]\n",
      " [  1.53468595e-12]\n",
      " [  8.49770883e-13]\n",
      " [ -7.77714803e-12]\n",
      " [ -2.26676094e-15]\n",
      " [  6.73639164e-12]\n",
      " [  1.54919130e-12]\n",
      " [ -9.08141303e-12]\n",
      " [ -3.70205667e-01]\n",
      " [  4.40962629e-01]\n",
      " [ -1.61461747e-01]\n",
      " [  9.75318427e-15]\n",
      " [  2.63989209e-12]\n",
      " [ -1.30024014e-11]\n",
      " [  2.72656873e-11]\n",
      " [ -6.14259231e-11]\n",
      " [  1.14994604e-02]\n",
      " [ -1.11715753e-11]\n",
      " [  1.80578399e-01]\n",
      " [ -2.75159955e-12]\n",
      " [ -6.43717550e-15]\n",
      " [  7.18814683e-15]\n",
      " [  3.60415834e-01]\n",
      " [  1.06779375e-11]\n",
      " [ -4.98503307e-11]\n",
      " [ -9.64420735e-02]\n",
      " [ -2.36199523e-12]\n",
      " [ -3.35998440e-12]\n",
      " [ -4.67208625e-12]\n",
      " [ -1.40685035e-11]\n",
      " [  2.28719179e-01]\n",
      " [ -3.14895789e-12]\n",
      " [ -3.02792154e-02]\n",
      " [ -8.10245955e-13]\n",
      " [ -7.04786080e-02]\n",
      " [  4.15183120e-11]\n",
      " [  1.72102832e-01]\n",
      " [  1.09743690e-01]\n",
      " [  5.50333499e-12]\n",
      " [  7.45698228e-13]\n",
      " [ -8.84045025e-12]\n",
      " [  1.11569695e-01]\n",
      " [ -2.51972339e-11]\n",
      " [ -1.57721681e-01]]\n"
     ]
    },
    {
     "name": "stderr",
     "output_type": "stream",
     "text": [
      "/Users/Bangz/anaconda3/lib/python3.6/site-packages/sklearn/utils/validation.py:429: DataConversionWarning: Data with input dtype uint8 was converted to float64 by the normalize function.\n",
      "  warnings.warn(msg, _DataConversionWarning)\n"
     ]
    }
   ],
   "source": [
    "pred = 0\n",
    "res = float(\"inf\")\n",
    "for d in range(n):\n",
    "    X = train[d]\n",
    "    X = np.transpose(X).reshape(28, 28, 100)\n",
    "    X = block_reduce(X, block_size=(4, 4, 1), func=np.max)\n",
    "    X = normalize(X.reshape(49,100), axis=0, norm='l2')\n",
    "    y = test[0]\n",
    "    y = y.reshape(28,28,1)\n",
    "    y = block_reduce(y, block_size=(4, 4, 1), func=np.max)\n",
    "    y = normalize(y.reshape(49,1), axis=0, norm='l2')\n",
    "    if W[d].size > 1:\n",
    "        #print('d : ', d, 'w : ', LA.norm(W[d]))\n",
    "        temp = LA.norm(y - np.dot(X, W[d]))\n",
    "        print('d : ', d, 'res : ', temp)\n",
    "        if temp < res:\n",
    "            res = temp\n",
    "            pred = d\n",
    "            #print(res,d)\n",
    "print('Prediction :', pred, 'weights', W[pred])        "
   ]
  },
  {
   "cell_type": "code",
   "execution_count": 46,
   "metadata": {
    "collapsed": false
   },
   "outputs": [
    {
     "data": {
      "image/png": "[encoded data removed]",
      "text/plain": [
       "<matplotlib.figure.Figure at 0x11e8ee9e8>"
      ]
     },
     "metadata": {},
     "output_type": "display_data"
    }
   ],
   "source": [
    "plt.figure(figsize=(30,10))\n",
    "plt.plot(W[5])\n",
    "plt.show()"
   ]
  },
  {
   "cell_type": "code",
   "execution_count": 52,
   "metadata": {
    "collapsed": false
   },
   "outputs": [
    {
     "data": {
      "text/plain": [
       "(array([ 4, 20, 23, 64]), array([0, 0, 0, 0]))"
      ]
     },
     "execution_count": 52,
     "metadata": {},
     "output_type": "execute_result"
    }
   ],
   "source": [
    "np.where(W[5] < -0.2)"
   ]
  },
  {
   "cell_type": "code",
   "execution_count": 54,
   "metadata": {
    "collapsed": false
   },
   "outputs": [
    {
     "data": {
      "image/png": "[encoded data removed]",
      "text/plain": [
       "<matplotlib.figure.Figure at 0x11facb940>"
      ]
     },
     "metadata": {},
     "output_type": "display_data"
    }
   ],
   "source": [
    "d=5\n",
    "X = train[d]\n",
    "X = X[23]\n",
    "A= X.reshape(28, 28, 1)\n",
    "plt.imshow(A[:,:,0], cmap='gray')\n",
    "plt.show()"
   ]
  },
  {
   "cell_type": "code",
   "execution_count": 4,
   "metadata": {
    "collapsed": false
   },
   "outputs": [
    {
     "name": "stdout",
     "output_type": "stream",
     "text": [
      "\n",
      "ECOS 2.0.4 - (C) embotech GmbH, Zurich Switzerland, 2012-15. Web: www.embotech.com/ECOS\n",
      "\n",
      "It     pcost       dcost      gap   pres   dres    k/t    mu     step   sigma     IR    |   BT\n",
      " 0  +0.000e+00  -0.000e+00  +3e+02  8e-01  1e-02  1e+00  2e+00    ---    ---    1  1  - |  -  - \n",
      " 1  +3.453e+01  +3.456e+01  +6e+01  3e-01  9e-04  2e-01  3e-01  0.8707  7e-02   1  1  1 |  0  0\n",
      " 2  +4.637e+01  +4.638e+01  +2e+01  7e-02  2e-04  7e-02  9e-02  0.7476  5e-02   1  1  1 |  0  0\n",
      " 3  +4.899e+01  +4.899e+01  +6e+00  2e-02  5e-05  2e-02  3e-02  0.7482  1e-01   1  1  1 |  0  0\n",
      " 4  +4.976e+01  +4.977e+01  +2e+00  9e-03  2e-05  1e-02  1e-02  0.6217  8e-02   1  1  1 |  0  0\n",
      " 5  +5.013e+01  +5.013e+01  +7e-01  3e-03  6e-06  3e-03  4e-03  0.8151  1e-01   1  1  1 |  0  0\n",
      " 6  +5.028e+01  +5.028e+01  +9e-02  3e-04  7e-07  4e-04  5e-04  0.9282  6e-02   1  1  1 |  0  0\n",
      " 7  +5.030e+01  +5.030e+01  +5e-03  2e-05  4e-08  2e-05  2e-05  0.9536  6e-03   1  1  1 |  0  0\n",
      " 8  +5.030e+01  +5.030e+01  +5e-05  2e-07  4e-10  2e-07  3e-07  0.9890  1e-04   1  1  1 |  0  0\n",
      " 9  +5.030e+01  +5.030e+01  +6e-07  2e-09  5e-12  3e-09  3e-09  0.9890  1e-04   1  1  1 |  0  0\n",
      "10  +5.030e+01  +5.030e+01  +7e-09  2e-11  5e-14  3e-11  3e-11  0.9890  1e-04   1  0  0 |  0  0\n",
      "\n",
      "OPTIMAL (within feastol=2.4e-11, reltol=1.3e-10, abstol=6.6e-09).\n",
      "Runtime: 0.007630 seconds.\n",
      "\n",
      "10.3660504531\n"
     ]
    }
   ],
   "source": [
    "d = 7\n",
    "X = train[d]\n",
    "X = np.transpose(X).reshape(28, 28, 100)\n",
    "X = block_reduce(X, block_size=(3, 3, 1), func=np.mean)\n",
    "X = normalize(X.reshape(100,100), axis=1, norm='l2')\n",
    "y = test[2]\n",
    "y = y.reshape(28,28,1)\n",
    "y = block_reduce(y, block_size=(3, 3, 1), func=np.mean)\n",
    "y = normalize(y.reshape(100,1), axis=1, norm='l2')\n",
    "w = Variable(100,1)\n",
    "obj = Minimize(norm(w,1))\n",
    "const = [X * w == y]\n",
    "prob = Problem(obj,const)\n",
    "result = prob.solve(verbose=True)\n",
    "print(LA.norm(w.value))\n",
    "#W.append(np.array(w.value))"
   ]
  },
  {
   "cell_type": "code",
   "execution_count": null,
   "metadata": {
    "collapsed": false
   },
   "outputs": [],
   "source": [
    "d= 2\n",
    "X = test[d]\n",
    "print(testLabels[d])\n",
    "A= X.reshape(28, 28, 1)\n",
    "plt.imshow(A[:,:,0], cmap='gray')\n",
    "plt.show()"
   ]
  },
  {
   "cell_type": "code",
   "execution_count": 43,
   "metadata": {
    "collapsed": false
   },
   "outputs": [
    {
     "data": {
      "text/plain": [
       "(10, 10, 100)"
      ]
     },
     "execution_count": 43,
     "metadata": {},
     "output_type": "execute_result"
    }
   ],
   "source": [
    "X = train[1]\n",
    "X = np.transpose(X).reshape(28, 28, 100)\n",
    "X = block_reduce(X, block_size=(3, 3, 1), func=np.max)\n",
    "X.shape"
   ]
  },
  {
   "cell_type": "code",
   "execution_count": 35,
   "metadata": {
    "collapsed": false
   },
   "outputs": [
    {
     "data": {
      "text/plain": [
       "(10, 10, 100)"
      ]
     },
     "execution_count": 35,
     "metadata": {},
     "output_type": "execute_result"
    }
   ],
   "source": []
  },
  {
   "cell_type": "code",
   "execution_count": null,
   "metadata": {
    "collapsed": true
   },
   "outputs": [],
   "source": []
  }
 ],
 "metadata": {
  "kernelspec": {
   "display_name": "Python 3",
   "language": "python",
   "name": "python3"
  },
  "language_info": {
   "codemirror_mode": {
    "name": "ipython",
    "version": 3
   },
   "file_extension": ".py",
   "mimetype": "text/x-python",
   "name": "python",
   "nbconvert_exporter": "python",
   "pygments_lexer": "ipython3",
   "version": "3.6.0"
  }
 },
 "nbformat": 4,
 "nbformat_minor": 2
}
